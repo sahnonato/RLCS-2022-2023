{
 "cells": [
  {
   "cell_type": "code",
   "execution_count": 1,
   "id": "30190467",
   "metadata": {},
   "outputs": [],
   "source": [
    "import pandas as pd\n",
    "import numpy as np\n",
    "\n",
    "import seaborn as sns\n",
    "import matplotlib.pyplot as plt\n",
    "import plotly.express as px\n",
    "\n",
    "from sklearn.model_selection import train_test_split\n",
    "from sklearn import metrics\n",
    "from sklearn.ensemble import RandomForestClassifier\n",
    "from sklearn.metrics import plot_confusion_matrix\n",
    "\n",
    "from scipy.stats import ks_2samp\n",
    "\n",
    "%matplotlib inline"
   ]
  },
  {
   "cell_type": "code",
   "execution_count": 2,
   "id": "ac9569a9",
   "metadata": {},
   "outputs": [],
   "source": [
    "#  Concatenando datasets - SSA\n",
    "df0 = pd.read_csv(r\"C:\\Users\\sabri\\RLCS 2022-2023 - Times\\Fall RLCS 2022-2023\\Fall - SSA\\main-event-81deujqgpr-teams-games.csv\", sep=';')\n",
    "df1 = pd.read_csv(r\"C:\\Users\\sabri\\RLCS 2022-2023 - Times\\Fall RLCS 2022-2023\\Fall - SSA\\main-event-v7qgzrc70g-teams-games.csv\", sep=';')\n",
    "df2 = pd.read_csv(r\"C:\\Users\\sabri\\RLCS 2022-2023 - Times\\Fall RLCS 2022-2023\\Fall - SSA\\main-event-zc1q2nf2bt-teams-games.csv\", sep=';')\n",
    "df3 = pd.read_csv(r\"C:\\Users\\sabri\\RLCS 2022-2023 - Times\\Winter RLCS 2022-2023\\Winter - SSA\\main-event-1p2l6n4gfo-teams-games.csv\", sep=';')\n",
    "df4 = pd.read_csv(r\"C:\\Users\\sabri\\RLCS 2022-2023 - Times\\Winter RLCS 2022-2023\\Winter - SSA\\main-event-f6l5v902f5-teams-games.csv\", sep=';')\n",
    "df5 = pd.read_csv(r\"C:\\Users\\sabri\\RLCS 2022-2023 - Times\\Winter RLCS 2022-2023\\Winter - SSA\\sub-saharan-africa-mzipiz4wqw-teams-games.csv\", sep=';')\n",
    "df6 = pd.read_csv(r\"C:\\Users\\sabri\\RLCS 2022-2023 - Times\\Spring RLCS 2022-2023\\Spring - SSA\\main-event-k49pd7rxpp-teams-games.csv\", sep=';')\n",
    "df7 = pd.read_csv(r\"C:\\Users\\sabri\\RLCS 2022-2023 - Times\\Spring RLCS 2022-2023\\Spring - SSA\\main-events-xffusvs0lu-teams-games.csv\", sep=';')\n",
    "df8 = pd.read_csv(r\"C:\\Users\\sabri\\RLCS 2022-2023 - Times\\Spring RLCS 2022-2023\\Spring - SSA\\sub-saharan-africa-de8imtymw9-teams-games.csv\", sep=';')\n",
    "teams = pd.concat([df0, df1, df2, df3, df4, df5, df6, df7, df8])\n",
    "teams = pd.DataFrame(teams)"
   ]
  },
  {
   "cell_type": "code",
   "execution_count": 3,
   "id": "538df139",
   "metadata": {},
   "outputs": [
    {
     "data": {
      "text/plain": [
       "(2372, 51)"
      ]
     },
     "execution_count": 3,
     "metadata": {},
     "output_type": "execute_result"
    }
   ],
   "source": [
    "#  Qual a forma do meu dataset?\n",
    "teams.shape"
   ]
  },
  {
   "cell_type": "code",
   "execution_count": 4,
   "id": "6a821d7c",
   "metadata": {},
   "outputs": [],
   "source": [
    "teams.columns = [column.replace(\" \", \"_\") for column in teams.columns]"
   ]
  },
  {
   "cell_type": "code",
   "execution_count": 5,
   "id": "14f64ab1",
   "metadata": {},
   "outputs": [],
   "source": [
    "#  Exportando para Excel\n",
    "teamsexcel = pd.ExcelWriter('SSATeams.xlsx')\n",
    "teams.to_excel(teamsexcel)\n",
    "teamsexcel.save()"
   ]
  }
 ],
 "metadata": {
  "kernelspec": {
   "display_name": "Python 3 (ipykernel)",
   "language": "python",
   "name": "python3"
  },
  "language_info": {
   "codemirror_mode": {
    "name": "ipython",
    "version": 3
   },
   "file_extension": ".py",
   "mimetype": "text/x-python",
   "name": "python",
   "nbconvert_exporter": "python",
   "pygments_lexer": "ipython3",
   "version": "3.9.12"
  }
 },
 "nbformat": 4,
 "nbformat_minor": 5
}
