{
 "cells": [
  {
   "cell_type": "code",
   "execution_count": 1,
   "id": "4404ae08",
   "metadata": {},
   "outputs": [],
   "source": [
    "from datetime import datetime\n",
    "\n",
    "import pandas as pd\n",
    "import seaborn as sns\n",
    "import matplotlib.pyplot as plt\n",
    "import numpy as np\n",
    "\n",
    "import patsy\n",
    "\n",
    "from sklearn.tree import DecisionTreeClassifier\n",
    "from sklearn.ensemble import RandomForestClassifier\n",
    "\n",
    "from sklearn.metrics import accuracy_score\n",
    "from sklearn.model_selection import cross_val_score\n",
    "from sklearn.model_selection import KFold\n",
    "from sklearn.metrics import roc_auc_score\n",
    "\n",
    "from scipy.stats import ks_2samp"
   ]
  },
  {
   "cell_type": "code",
   "execution_count": 2,
   "id": "105588a2",
   "metadata": {},
   "outputs": [
    {
     "data": {
      "text/html": [
       "<div>\n",
       "<style scoped>\n",
       "    .dataframe tbody tr th:only-of-type {\n",
       "        vertical-align: middle;\n",
       "    }\n",
       "\n",
       "    .dataframe tbody tr th {\n",
       "        vertical-align: top;\n",
       "    }\n",
       "\n",
       "    .dataframe thead th {\n",
       "        text-align: right;\n",
       "    }\n",
       "</style>\n",
       "<table border=\"1\" class=\"dataframe\">\n",
       "  <thead>\n",
       "    <tr style=\"text-align: right;\">\n",
       "      <th></th>\n",
       "      <th>replay_id</th>\n",
       "      <th>replay_title</th>\n",
       "      <th>date</th>\n",
       "      <th>result</th>\n",
       "      <th>team_name</th>\n",
       "      <th>opposing_team_name</th>\n",
       "      <th>score</th>\n",
       "      <th>goals</th>\n",
       "      <th>assists</th>\n",
       "      <th>saves</th>\n",
       "      <th>shots</th>\n",
       "      <th>demos_inflicted</th>\n",
       "      <th>demos_taken</th>\n",
       "      <th>shooting_percentage</th>\n",
       "      <th>save_conceded</th>\n",
       "    </tr>\n",
       "  </thead>\n",
       "  <tbody>\n",
       "    <tr>\n",
       "      <th>0</th>\n",
       "      <td>4b679bcb-07b3-4e92-b9d5-dd93627b31e3</td>\n",
       "      <td>APAC Y GS vs K16 G3 2022-10-22.19.06</td>\n",
       "      <td>2022-10-22</td>\n",
       "      <td>loss</td>\n",
       "      <td>1620 KINGS</td>\n",
       "      <td>GOD SPEED</td>\n",
       "      <td>0</td>\n",
       "      <td>0</td>\n",
       "      <td>0</td>\n",
       "      <td>0</td>\n",
       "      <td>0</td>\n",
       "      <td>0</td>\n",
       "      <td>0</td>\n",
       "      <td>0.00</td>\n",
       "      <td>0.00</td>\n",
       "    </tr>\n",
       "    <tr>\n",
       "      <th>1</th>\n",
       "      <td>049ddd16-91ff-42b5-97f3-19fa67c3c55f</td>\n",
       "      <td>APAC A JMCH VS K16 G3 2022-10-23.17.19</td>\n",
       "      <td>2022-10-23</td>\n",
       "      <td>loss</td>\n",
       "      <td>1620 KINGS</td>\n",
       "      <td>JAMES CHEESE</td>\n",
       "      <td>488</td>\n",
       "      <td>0</td>\n",
       "      <td>0</td>\n",
       "      <td>1</td>\n",
       "      <td>2</td>\n",
       "      <td>3</td>\n",
       "      <td>4</td>\n",
       "      <td>0.00</td>\n",
       "      <td>0.14</td>\n",
       "    </tr>\n",
       "    <tr>\n",
       "      <th>2</th>\n",
       "      <td>761466d2-cb6d-4da2-a9aa-3861a4f0a858</td>\n",
       "      <td>APAC Q K16 vs JMCH G2 2022-10-08.18.15</td>\n",
       "      <td>2022-10-08</td>\n",
       "      <td>loss</td>\n",
       "      <td>1620 KINGS</td>\n",
       "      <td>JAMES CHEESE</td>\n",
       "      <td>833</td>\n",
       "      <td>0</td>\n",
       "      <td>0</td>\n",
       "      <td>8</td>\n",
       "      <td>2</td>\n",
       "      <td>3</td>\n",
       "      <td>4</td>\n",
       "      <td>0.00</td>\n",
       "      <td>0.47</td>\n",
       "    </tr>\n",
       "    <tr>\n",
       "      <th>3</th>\n",
       "      <td>ef7ced67-3865-4d13-8aad-cca35a8ba38d</td>\n",
       "      <td>APAC Q K16 vs JMCH G1 2022-10-08.18.03</td>\n",
       "      <td>2022-10-08</td>\n",
       "      <td>loss</td>\n",
       "      <td>1620 KINGS</td>\n",
       "      <td>JAMES CHEESE</td>\n",
       "      <td>988</td>\n",
       "      <td>2</td>\n",
       "      <td>1</td>\n",
       "      <td>5</td>\n",
       "      <td>2</td>\n",
       "      <td>3</td>\n",
       "      <td>3</td>\n",
       "      <td>100.00</td>\n",
       "      <td>0.28</td>\n",
       "    </tr>\n",
       "    <tr>\n",
       "      <th>4</th>\n",
       "      <td>8c15d7f6-4162-44cd-8dd0-42b9ce60d92d</td>\n",
       "      <td>APAC J K16 vs TL G2 2022-10-08.16.48</td>\n",
       "      <td>2022-10-08</td>\n",
       "      <td>loss</td>\n",
       "      <td>1620 KINGS</td>\n",
       "      <td>TOUGH LOVE</td>\n",
       "      <td>830</td>\n",
       "      <td>1</td>\n",
       "      <td>1</td>\n",
       "      <td>4</td>\n",
       "      <td>3</td>\n",
       "      <td>3</td>\n",
       "      <td>3</td>\n",
       "      <td>33.33</td>\n",
       "      <td>0.50</td>\n",
       "    </tr>\n",
       "  </tbody>\n",
       "</table>\n",
       "</div>"
      ],
      "text/plain": [
       "                              replay_id  \\\n",
       "0  4b679bcb-07b3-4e92-b9d5-dd93627b31e3   \n",
       "1  049ddd16-91ff-42b5-97f3-19fa67c3c55f   \n",
       "2  761466d2-cb6d-4da2-a9aa-3861a4f0a858   \n",
       "3  ef7ced67-3865-4d13-8aad-cca35a8ba38d   \n",
       "4  8c15d7f6-4162-44cd-8dd0-42b9ce60d92d   \n",
       "\n",
       "                             replay_title       date result   team_name  \\\n",
       "0    APAC Y GS vs K16 G3 2022-10-22.19.06 2022-10-22   loss  1620 KINGS   \n",
       "1  APAC A JMCH VS K16 G3 2022-10-23.17.19 2022-10-23   loss  1620 KINGS   \n",
       "2  APAC Q K16 vs JMCH G2 2022-10-08.18.15 2022-10-08   loss  1620 KINGS   \n",
       "3  APAC Q K16 vs JMCH G1 2022-10-08.18.03 2022-10-08   loss  1620 KINGS   \n",
       "4    APAC J K16 vs TL G2 2022-10-08.16.48 2022-10-08   loss  1620 KINGS   \n",
       "\n",
       "  opposing_team_name  score  goals  assists  saves  shots  demos_inflicted  \\\n",
       "0          GOD SPEED      0      0        0      0      0                0   \n",
       "1       JAMES CHEESE    488      0        0      1      2                3   \n",
       "2       JAMES CHEESE    833      0        0      8      2                3   \n",
       "3       JAMES CHEESE    988      2        1      5      2                3   \n",
       "4         TOUGH LOVE    830      1        1      4      3                3   \n",
       "\n",
       "   demos_taken  shooting_percentage  save_conceded  \n",
       "0            0                 0.00           0.00  \n",
       "1            4                 0.00           0.14  \n",
       "2            4                 0.00           0.47  \n",
       "3            3               100.00           0.28  \n",
       "4            3                33.33           0.50  "
      ]
     },
     "execution_count": 2,
     "metadata": {},
     "output_type": "execute_result"
    }
   ],
   "source": [
    "#  Abrindo o dataset\n",
    "df = pd.read_excel(r\"C:\\Users\\sabri\\MBA Times - Final.xlsx\")\n",
    "df.head()"
   ]
  },
  {
   "cell_type": "code",
   "execution_count": 3,
   "id": "f8dfedc6",
   "metadata": {},
   "outputs": [
    {
     "data": {
      "text/html": [
       "<div>\n",
       "<style scoped>\n",
       "    .dataframe tbody tr th:only-of-type {\n",
       "        vertical-align: middle;\n",
       "    }\n",
       "\n",
       "    .dataframe tbody tr th {\n",
       "        vertical-align: top;\n",
       "    }\n",
       "\n",
       "    .dataframe thead th {\n",
       "        text-align: right;\n",
       "    }\n",
       "</style>\n",
       "<table border=\"1\" class=\"dataframe\">\n",
       "  <thead>\n",
       "    <tr style=\"text-align: right;\">\n",
       "      <th></th>\n",
       "      <th>replay_id</th>\n",
       "      <th>replay_title</th>\n",
       "      <th>date</th>\n",
       "      <th>team_name</th>\n",
       "      <th>opposing_team_name</th>\n",
       "      <th>score</th>\n",
       "      <th>goals</th>\n",
       "      <th>assists</th>\n",
       "      <th>saves</th>\n",
       "      <th>shots</th>\n",
       "      <th>demos_inflicted</th>\n",
       "      <th>demos_taken</th>\n",
       "      <th>shooting_percentage</th>\n",
       "      <th>save_conceded</th>\n",
       "      <th>result</th>\n",
       "    </tr>\n",
       "  </thead>\n",
       "  <tbody>\n",
       "    <tr>\n",
       "      <th>0</th>\n",
       "      <td>4b679bcb-07b3-4e92-b9d5-dd93627b31e3</td>\n",
       "      <td>APAC Y GS vs K16 G3 2022-10-22.19.06</td>\n",
       "      <td>2022-10-22</td>\n",
       "      <td>1620 KINGS</td>\n",
       "      <td>GOD SPEED</td>\n",
       "      <td>0</td>\n",
       "      <td>0</td>\n",
       "      <td>0</td>\n",
       "      <td>0</td>\n",
       "      <td>0</td>\n",
       "      <td>0</td>\n",
       "      <td>0</td>\n",
       "      <td>0.00</td>\n",
       "      <td>0.00</td>\n",
       "      <td>1</td>\n",
       "    </tr>\n",
       "    <tr>\n",
       "      <th>1</th>\n",
       "      <td>049ddd16-91ff-42b5-97f3-19fa67c3c55f</td>\n",
       "      <td>APAC A JMCH VS K16 G3 2022-10-23.17.19</td>\n",
       "      <td>2022-10-23</td>\n",
       "      <td>1620 KINGS</td>\n",
       "      <td>JAMES CHEESE</td>\n",
       "      <td>488</td>\n",
       "      <td>0</td>\n",
       "      <td>0</td>\n",
       "      <td>1</td>\n",
       "      <td>2</td>\n",
       "      <td>3</td>\n",
       "      <td>4</td>\n",
       "      <td>0.00</td>\n",
       "      <td>0.14</td>\n",
       "      <td>1</td>\n",
       "    </tr>\n",
       "    <tr>\n",
       "      <th>2</th>\n",
       "      <td>761466d2-cb6d-4da2-a9aa-3861a4f0a858</td>\n",
       "      <td>APAC Q K16 vs JMCH G2 2022-10-08.18.15</td>\n",
       "      <td>2022-10-08</td>\n",
       "      <td>1620 KINGS</td>\n",
       "      <td>JAMES CHEESE</td>\n",
       "      <td>833</td>\n",
       "      <td>0</td>\n",
       "      <td>0</td>\n",
       "      <td>8</td>\n",
       "      <td>2</td>\n",
       "      <td>3</td>\n",
       "      <td>4</td>\n",
       "      <td>0.00</td>\n",
       "      <td>0.47</td>\n",
       "      <td>1</td>\n",
       "    </tr>\n",
       "    <tr>\n",
       "      <th>3</th>\n",
       "      <td>ef7ced67-3865-4d13-8aad-cca35a8ba38d</td>\n",
       "      <td>APAC Q K16 vs JMCH G1 2022-10-08.18.03</td>\n",
       "      <td>2022-10-08</td>\n",
       "      <td>1620 KINGS</td>\n",
       "      <td>JAMES CHEESE</td>\n",
       "      <td>988</td>\n",
       "      <td>2</td>\n",
       "      <td>1</td>\n",
       "      <td>5</td>\n",
       "      <td>2</td>\n",
       "      <td>3</td>\n",
       "      <td>3</td>\n",
       "      <td>100.00</td>\n",
       "      <td>0.28</td>\n",
       "      <td>1</td>\n",
       "    </tr>\n",
       "    <tr>\n",
       "      <th>4</th>\n",
       "      <td>8c15d7f6-4162-44cd-8dd0-42b9ce60d92d</td>\n",
       "      <td>APAC J K16 vs TL G2 2022-10-08.16.48</td>\n",
       "      <td>2022-10-08</td>\n",
       "      <td>1620 KINGS</td>\n",
       "      <td>TOUGH LOVE</td>\n",
       "      <td>830</td>\n",
       "      <td>1</td>\n",
       "      <td>1</td>\n",
       "      <td>4</td>\n",
       "      <td>3</td>\n",
       "      <td>3</td>\n",
       "      <td>3</td>\n",
       "      <td>33.33</td>\n",
       "      <td>0.50</td>\n",
       "      <td>1</td>\n",
       "    </tr>\n",
       "  </tbody>\n",
       "</table>\n",
       "</div>"
      ],
      "text/plain": [
       "                              replay_id  \\\n",
       "0  4b679bcb-07b3-4e92-b9d5-dd93627b31e3   \n",
       "1  049ddd16-91ff-42b5-97f3-19fa67c3c55f   \n",
       "2  761466d2-cb6d-4da2-a9aa-3861a4f0a858   \n",
       "3  ef7ced67-3865-4d13-8aad-cca35a8ba38d   \n",
       "4  8c15d7f6-4162-44cd-8dd0-42b9ce60d92d   \n",
       "\n",
       "                             replay_title       date   team_name  \\\n",
       "0    APAC Y GS vs K16 G3 2022-10-22.19.06 2022-10-22  1620 KINGS   \n",
       "1  APAC A JMCH VS K16 G3 2022-10-23.17.19 2022-10-23  1620 KINGS   \n",
       "2  APAC Q K16 vs JMCH G2 2022-10-08.18.15 2022-10-08  1620 KINGS   \n",
       "3  APAC Q K16 vs JMCH G1 2022-10-08.18.03 2022-10-08  1620 KINGS   \n",
       "4    APAC J K16 vs TL G2 2022-10-08.16.48 2022-10-08  1620 KINGS   \n",
       "\n",
       "  opposing_team_name  score  goals  assists  saves  shots  demos_inflicted  \\\n",
       "0          GOD SPEED      0      0        0      0      0                0   \n",
       "1       JAMES CHEESE    488      0        0      1      2                3   \n",
       "2       JAMES CHEESE    833      0        0      8      2                3   \n",
       "3       JAMES CHEESE    988      2        1      5      2                3   \n",
       "4         TOUGH LOVE    830      1        1      4      3                3   \n",
       "\n",
       "   demos_taken  shooting_percentage  save_conceded  result  \n",
       "0            0                 0.00           0.00       1  \n",
       "1            4                 0.00           0.14       1  \n",
       "2            4                 0.00           0.47       1  \n",
       "3            3               100.00           0.28       1  \n",
       "4            3                33.33           0.50       1  "
      ]
     },
     "execution_count": 3,
     "metadata": {},
     "output_type": "execute_result"
    }
   ],
   "source": [
    "#  Transformando result em variável binária. Loss = 1 e win = 0\n",
    "df1 = pd.get_dummies(df['result'])\n",
    "#df1.head()\n",
    "df1 = df1.drop(['win'], axis = 1)\n",
    "#df1.head()\n",
    "df = pd.concat((df, df1), axis = 1)\n",
    "#df.head()\n",
    "df = df.drop(['result'], axis = 1)\n",
    "df = df.rename(columns = {'loss': 'result'})\n",
    "df.head()"
   ]
  },
  {
   "cell_type": "code",
   "execution_count": 4,
   "id": "e5833e21",
   "metadata": {},
   "outputs": [
    {
     "data": {
      "text/plain": [
       "19887"
      ]
     },
     "execution_count": 4,
     "metadata": {},
     "output_type": "execute_result"
    }
   ],
   "source": [
    "df = df.dropna(axis=0)\n",
    "df.shape\n",
    "df['result'].count()"
   ]
  },
  {
   "cell_type": "code",
   "execution_count": 5,
   "id": "8b18486d",
   "metadata": {},
   "outputs": [],
   "source": [
    "periodo_des = df[df['date'] < datetime(2023,6,1)].copy()\n",
    "\n",
    "oot = df[df['date'] >= datetime(2023,6,1)].copy()\n"
   ]
  },
  {
   "cell_type": "code",
   "execution_count": 6,
   "id": "5bff3033",
   "metadata": {},
   "outputs": [],
   "source": [
    "x_oot = oot.drop('result', axis=1)\n",
    "x_oot = x_oot.drop('replay_id', axis=1)\n",
    "x_oot = x_oot.drop('replay_title', axis=1)\n",
    "x_oot = x_oot.drop('date', axis=1)\n",
    "x_oot = x_oot.drop('team_name', axis=1)\n",
    "x_oot = x_oot.drop('opposing_team_name', axis=1)\n",
    "y_oot = oot['result']"
   ]
  },
  {
   "cell_type": "code",
   "execution_count": 7,
   "id": "c5cbe0b9",
   "metadata": {},
   "outputs": [
    {
     "data": {
      "text/plain": [
       "((12902, 9), (4301, 9))"
      ]
     },
     "execution_count": 7,
     "metadata": {},
     "output_type": "execute_result"
    }
   ],
   "source": [
    "from sklearn.model_selection import train_test_split\n",
    "\n",
    "X = periodo_des.drop('result', axis=1)\n",
    "X = X.drop('replay_id', axis=1)\n",
    "X = X.drop('replay_title', axis=1)\n",
    "X = X.drop('date', axis=1)\n",
    "X = X.drop('team_name', axis=1)\n",
    "X = X.drop('opposing_team_name', axis=1)\n",
    "y = periodo_des['result']\n",
    "  \n",
    "X_train, X_test, y_train, y_test = train_test_split(X, y,test_size=0.25, random_state=42)\n",
    "X_train.shape, X_test.shape"
   ]
  },
  {
   "cell_type": "code",
   "execution_count": 8,
   "id": "53fcfe67",
   "metadata": {},
   "outputs": [
    {
     "name": "stdout",
     "output_type": "stream",
     "text": [
      "              precision    recall  f1-score   support\n",
      "\n",
      "           0       0.90      0.90      0.90      2159\n",
      "           1       0.90      0.90      0.90      2142\n",
      "\n",
      "    accuracy                           0.90      4301\n",
      "   macro avg       0.90      0.90      0.90      4301\n",
      "weighted avg       0.90      0.90      0.90      4301\n",
      "\n"
     ]
    }
   ],
   "source": [
    "from sklearn.ensemble import GradientBoostingClassifier\n",
    "from sklearn.metrics import classification_report\n",
    "\n",
    "model = GradientBoostingClassifier()\n",
    "model.fit(X_train, y_train)\n",
    "\n",
    "# predict the mode\n",
    "y_pred = model.predict(X_test)\n",
    "classification_report(y_test, y_pred)\n",
    "# performance evaluatio metrics\n",
    "print(classification_report(y_pred, y_test))"
   ]
  },
  {
   "cell_type": "code",
   "execution_count": 9,
   "id": "90430e29",
   "metadata": {},
   "outputs": [],
   "source": [
    "param_grid = {\n",
    "    'n_estimators': [25, 50, 100],\n",
    "    'max_leaf_nodes': [9, 12, 15],\n",
    "    'learning_rate': [.1, .25, .5, 1]\n",
    "}"
   ]
  },
  {
   "cell_type": "code",
   "execution_count": 10,
   "id": "65cbb6e3",
   "metadata": {},
   "outputs": [],
   "source": [
    "cv = KFold(n_splits=10, shuffle=True, random_state=42)"
   ]
  },
  {
   "cell_type": "code",
   "execution_count": 11,
   "id": "d664ed26",
   "metadata": {},
   "outputs": [
    {
     "name": "stdout",
     "output_type": "stream",
     "text": [
      "GradientBoostingClassifier(learning_rate=0.25, max_leaf_nodes=9,\n",
      "                           n_estimators=50)\n"
     ]
    }
   ],
   "source": [
    "from sklearn.model_selection import GridSearchCV\n",
    "grid_search = GridSearchCV(GradientBoostingClassifier(),\n",
    "                           param_grid=param_grid,\n",
    "                          cv = cv)\n",
    "grid_search.fit(X_train, y_train)\n",
    "print(grid_search.best_estimator_)"
   ]
  },
  {
   "cell_type": "code",
   "execution_count": 16,
   "id": "4c569b37",
   "metadata": {},
   "outputs": [
    {
     "name": "stdout",
     "output_type": "stream",
     "text": [
      "              precision    recall  f1-score   support\n",
      "\n",
      "           0       0.90      0.91      0.90      2148\n",
      "           1       0.90      0.90      0.90      2153\n",
      "\n",
      "    accuracy                           0.90      4301\n",
      "   macro avg       0.90      0.90      0.90      4301\n",
      "weighted avg       0.90      0.90      0.90      4301\n",
      "               precision    recall  f1-score   support\n",
      "\n",
      "           0       0.89      0.90      0.90      1342\n",
      "           1       0.90      0.89      0.90      1342\n",
      "\n",
      "    accuracy                           0.90      2684\n",
      "   macro avg       0.90      0.90      0.90      2684\n",
      "weighted avg       0.90      0.90      0.90      2684\n",
      "\n"
     ]
    }
   ],
   "source": [
    "model = GradientBoostingClassifier(n_estimators = 50, max_leaf_nodes = 9, learning_rate = .25)\n",
    "model.fit(X_train, y_train)\n",
    "\n",
    "\n",
    "# predict the mode\n",
    "y_pred = model.predict(X_test)\n",
    "av1 = classification_report(y_test, y_pred)\n",
    "y_pred1 = model.predict(x_oot)\n",
    "av2 = classification_report(y_oot, y_pred1)\n",
    "# performance evaluatio metrics\n",
    "print(av1, av2)\n"
   ]
  },
  {
   "cell_type": "code",
   "execution_count": 17,
   "id": "d21f98e1",
   "metadata": {},
   "outputs": [
    {
     "name": "stdout",
     "output_type": "stream",
     "text": [
      "              precision    recall  f1-score   support\n",
      "\n",
      "           0       0.92      0.91      0.91      6454\n",
      "           1       0.91      0.92      0.91      6448\n",
      "\n",
      "    accuracy                           0.91     12902\n",
      "   macro avg       0.91      0.91      0.91     12902\n",
      "weighted avg       0.91      0.91      0.91     12902\n",
      "\n"
     ]
    }
   ],
   "source": [
    "#  Visualização\n",
    "# Import tools needed for visualization\n",
    "#from sklearn.tree import export_graphviz\n",
    "#import pydot\n",
    "# Pull out one tree from the forest\n",
    "#tree = model.estimators_[5]\n",
    "feature_list = list(X.columns)\n",
    "# predict the mode\n",
    "y_pred0 = model.predict(X_train)\n",
    "av0 = classification_report(y_train, y_pred0)\n",
    "print(av0)\n",
    "# Export the image to a dot file\n",
    "#export_graphviz(tree, out_file = 'tree.dot', feature_names = feature_list, rounded = True, precision = 1)\n",
    "# Use dot file to create a graph\n",
    "#(graph, ) = pydot.graph_from_dot_file('tree.dot')\n",
    "# Write graph to a png file\n",
    "#graph.write_png('tree.png')"
   ]
  },
  {
   "cell_type": "code",
   "execution_count": 18,
   "id": "c3d7457a",
   "metadata": {},
   "outputs": [
    {
     "name": "stdout",
     "output_type": "stream",
     "text": [
      "['score', 'goals', 'assists', 'saves', 'shots', 'demos_inflicted', 'demos_taken', 'shooting_percentage', 'save_conceded'] [0.007685538133637554, 0.6381939804877521, 0.0006389174563708846, 0.08736252410119522, 0.0014937976498239185, 0.0003410278483341942, 0.0022109657913620476, 0.027340736908226873, 0.23473251162329728]\n"
     ]
    }
   ],
   "source": [
    "#  Importância das variáveis\n",
    "# Get numerical feature importances\n",
    "importances = list(model.feature_importances_)\n",
    "# List of tuples with variable and importance\n",
    "\n",
    "#feature_importances = [(X, round(importance, 2)) for feature, importance in zip(feature_list, importances)]\n",
    "\n",
    "# Print out the feature and importances \n",
    "print(feature_list, importances)"
   ]
  },
  {
   "cell_type": "code",
   "execution_count": 19,
   "id": "c3574916",
   "metadata": {},
   "outputs": [
    {
     "data": {
      "image/png": "[encoded data removed]",
      "text/plain": [
       "<Figure size 432x288 with 1 Axes>"
      ]
     },
     "metadata": {
      "needs_background": "light"
     },
     "output_type": "display_data"
    }
   ],
   "source": [
    "import sklearn.metrics as metrics\n",
    "# calculate the fpr and tpr for all thresholds of the classification\n",
    "probs = model.predict_proba(X_test)\n",
    "preds = probs[:,1]\n",
    "fpr, tpr, threshold = metrics.roc_curve(y_test, preds)\n",
    "roc_auc = metrics.auc(fpr, tpr)\n",
    "\n",
    "# method I: plt\n",
    "import matplotlib.pyplot as plt\n",
    "plt.title('Receiver Operating Characteristic')\n",
    "plt.plot(fpr, tpr, 'b', label = 'AUC = %0.2f' % roc_auc)\n",
    "plt.legend(loc = 'lower right')\n",
    "plt.plot([0, 1], [0, 1],'r--')\n",
    "plt.xlim([0, 1])\n",
    "plt.ylim([0, 1])\n",
    "plt.ylabel('True Positive Rate')\n",
    "plt.xlabel('False Positive Rate')\n",
    "plt.show()"
   ]
  }
 ],
 "metadata": {
  "kernelspec": {
   "display_name": "Python 3 (ipykernel)",
   "language": "python",
   "name": "python3"
  },
  "language_info": {
   "codemirror_mode": {
    "name": "ipython",
    "version": 3
   },
   "file_extension": ".py",
   "mimetype": "text/x-python",
   "name": "python",
   "nbconvert_exporter": "python",
   "pygments_lexer": "ipython3",
   "version": "3.9.12"
  }
 },
 "nbformat": 4,
 "nbformat_minor": 5
}
